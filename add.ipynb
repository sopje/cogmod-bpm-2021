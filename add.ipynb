{
 "cells": [
  {
   "cell_type": "markdown",
   "metadata": {},
   "source": [
    "Create model and initialize with encounters of counting"
   ]
  },
  {
   "cell_type": "code",
   "execution_count": 61,
   "metadata": {},
   "outputs": [
    {
     "name": "stdout",
     "output_type": "stream",
     "text": [
      "\n",
      "=== Model ===\n",
      "Time: 0 s \n",
      "Goal:None\n",
      "DM:\n",
      "\n"
     ]
    }
   ],
   "source": [
    "from model import Model\n",
    "from dmchunk import Chunk\n",
    "\n",
    "m = Model()\n",
    "print(m)\n",
    "\n",
    "# In order for this to work, you need to maintain two mental counters in the goal buffer, \n",
    "# one that represents the current sum, and another that represents how far you have already counted. \n",
    "# Initialize the sum to the first of the numbers to be added, and initialize the counter to zero. \n",
    "\n",
    "# Then, as long as the counter is not equal to the second of the numbers to be added, update the \n",
    "# current sum in the goal buffer by retrieving the next number, print it, and update the counter\n",
    "# in the goal buffer in the same way. Once the counter is equal to the second number, your sum\n",
    "# should be the sum of the two input numbers.\n",
    "\n",
    "#TODO: what to do with time?\n",
    "numbers = [\"zero\",\"one\",\"two\",\"three\",\"four\",\"five\",\"six\"]\n",
    "for i in range(0,len(numbers)-1):\n",
    "    fact = Chunk(name = \"cf\" + numbers[i], slots ={\"isa\":\"count-fact\", \"num1\": numbers[i], \"num2\" : numbers[i+1]})\n",
    "    m.add_encounter(fact)\n",
    "\n",
    "# current_count = how far you have already counted\n",
    "# current_sum = current sum \n",
    "def add(start, end):\n",
    "    g = Chunk(name = \"goal\", slots = {\"current_sum\": start, \"current_count\": \"zero\"})\n",
    "    m.goal = g\n",
    "    done = False\n",
    "    while not done:\n",
    "        if g.slots[\"current_count\"] != end:\n",
    "            request_count = Chunk(name = \"request_count\", slots = {\"isa\":\"count-fact\", \"num1\":g.slots[\"current_count\"]})\n",
    "            m.time += .05\n",
    "            chunk_count, latency_count = m.retrieve(request_count)\n",
    "            m.add_encounter(chunk_count)\n",
    "            m.time += latency_count\n",
    "            g.slots[\"current_count\"] = chunk_count.slots[\"num2\"]\n",
    "            m.time += 0.3\n",
    "\n",
    "            # TODO: How to deal with timing of requests?\n",
    "            request_sum = Chunk(name = \"request_sum\", slots = {\"isa\":\"count-fact\", \"num1\":g.slots[\"current_sum\"]})\n",
    "            m.time += .05\n",
    "            chunk_sum, latency_sum = m.retrieve(request_sum)\n",
    "            m.add_encounter(chunk_sum)\n",
    "            m.time += latency_sum\n",
    "            print(g.slots[\"current_sum\"])\n",
    "            g.slots[\"current_sum\"] = chunk_sum.slots[\"num2\"]\n",
    "            m.time += 0.3\n",
    "        else:\n",
    "            print(g.slots[\"current_sum\"])\n",
    "            done = True\n",
    "            return g.slots[\"current_sum\"]\n"
   ]
  },
  {
   "cell_type": "markdown",
   "metadata": {},
   "source": [
    "Result:"
   ]
  },
  {
   "cell_type": "code",
   "execution_count": 62,
   "metadata": {},
   "outputs": [
    {
     "name": "stdout",
     "output_type": "stream",
     "text": [
      "two\n",
      "three\n",
      "four\n",
      "five\n",
      "six\n",
      "Result of additation of two by four is:  six\n"
     ]
    }
   ],
   "source": [
    "# Result of add function\n",
    "print(\"Result of additation of two by four is: \", add(\"two\", \"four\"))"
   ]
  }
 ],
 "metadata": {
  "kernelspec": {
   "display_name": "Python 3.9.5 64-bit",
   "language": "python",
   "name": "python3"
  },
  "language_info": {
   "codemirror_mode": {
    "name": "ipython",
    "version": 3
   },
   "file_extension": ".py",
   "mimetype": "text/x-python",
   "name": "python",
   "nbconvert_exporter": "python",
   "pygments_lexer": "ipython3",
   "version": "3.9.5"
  },
  "orig_nbformat": 4,
  "vscode": {
   "interpreter": {
    "hash": "4d4f9e6c608c78a96a991092f6d317a21e73bf7d0f49db3f1a1e9e8a60b865e3"
   }
  }
 },
 "nbformat": 4,
 "nbformat_minor": 2
}
